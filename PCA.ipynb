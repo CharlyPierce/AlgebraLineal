{
  "nbformat": 4,
  "nbformat_minor": 0,
  "metadata": {
    "colab": {
      "name": "PCA.ipynb",
      "provenance": [],
      "collapsed_sections": [],
      "authorship_tag": "ABX9TyOCS4w1A4UHnBAvqr6+Nb9t",
      "include_colab_link": true
    },
    "kernelspec": {
      "name": "python3",
      "display_name": "Python 3"
    },
    "language_info": {
      "name": "python"
    }
  },
  "cells": [
    {
      "cell_type": "markdown",
      "metadata": {
        "id": "view-in-github",
        "colab_type": "text"
      },
      "source": [
        "<a href=\"https://colab.research.google.com/github/CharlyPierce/AlgebraLineal/blob/main/PCA.ipynb\" target=\"_parent\"><img src=\"https://colab.research.google.com/assets/colab-badge.svg\" alt=\"Open In Colab\"/></a>"
      ]
    },
    {
      "cell_type": "code",
      "source": [
        "import tensorflow as tf\n",
        "import numpy as np\n",
        "import pandas as pd\n",
        "import matplotlib.pyplot as plt"
      ],
      "metadata": {
        "id": "SsUI8MqvWw4J"
      },
      "execution_count": null,
      "outputs": []
    },
    {
      "cell_type": "code",
      "source": [
        "A=[]\n",
        "for i in range(7):\n",
        "  A.append([i,i])\n",
        "  A.append([i+1,i])\n",
        "A"
      ],
      "metadata": {
        "colab": {
          "base_uri": "https://localhost:8080/"
        },
        "id": "T8os4QmrWzxT",
        "outputId": "029e27d6-da32-4eab-d9db-659332e0b899"
      },
      "execution_count": null,
      "outputs": [
        {
          "output_type": "execute_result",
          "data": {
            "text/plain": [
              "[[0, 0],\n",
              " [1, 0],\n",
              " [1, 1],\n",
              " [2, 1],\n",
              " [2, 2],\n",
              " [3, 2],\n",
              " [3, 3],\n",
              " [4, 3],\n",
              " [4, 4],\n",
              " [5, 4],\n",
              " [5, 5],\n",
              " [6, 5],\n",
              " [6, 6],\n",
              " [7, 6]]"
            ]
          },
          "metadata": {},
          "execution_count": 8
        }
      ]
    },
    {
      "cell_type": "code",
      "source": [
        "plt.scatter(np.array(A)[:,0].reshape(1,-1),np.array(A)[:,1].reshape(1,-1))"
      ],
      "metadata": {
        "colab": {
          "base_uri": "https://localhost:8080/",
          "height": 283
        },
        "id": "ChIWHnrUXvp8",
        "outputId": "7440ea8e-9bf8-40ee-9c5f-adf82c00a293"
      },
      "execution_count": null,
      "outputs": [
        {
          "output_type": "execute_result",
          "data": {
            "text/plain": [
              "<matplotlib.collections.PathCollection at 0x7f44a954d590>"
            ]
          },
          "metadata": {},
          "execution_count": 34
        },
        {
          "output_type": "display_data",
          "data": {
            "text/plain": [
              "<Figure size 432x288 with 1 Axes>"
            ],
            "image/png": "[encoded data removed]"
          },
          "metadata": {
            "needs_background": "light"
          }
        }
      ]
    },
    {
      "cell_type": "code",
      "source": [
        "A1=(np.matrix(A).T*np.matrix(A))/14#Calculamos sigma multiplicando A'*A/m donde A' es A transpuesta y m el No de datos\n",
        "A1"
      ],
      "metadata": {
        "colab": {
          "base_uri": "https://localhost:8080/"
        },
        "id": "t3puW_03X1AV",
        "outputId": "b6d4aba0-5b62-49f1-d67e-ed8095fcd535"
      },
      "execution_count": null,
      "outputs": [
        {
          "output_type": "execute_result",
          "data": {
            "text/plain": [
              "matrix([[16.5, 14.5],\n",
              "        [14.5, 13. ]])"
            ]
          },
          "metadata": {},
          "execution_count": 136
        }
      ]
    },
    {
      "cell_type": "code",
      "source": [
        "np.linalg.eig(A1)#Calculamos valores propios y vectores propios\n",
        "#Nos damos cuenta que el primer valor propio es mayor que el segundo\n",
        "#por lo que es mucho más significativo el primer valor propio"
      ],
      "metadata": {
        "colab": {
          "base_uri": "https://localhost:8080/"
        },
        "id": "LJcrqlrTbLZ1",
        "outputId": "d3495b00-3352-4d21-c5a9-fbd7cd23d247"
      },
      "execution_count": null,
      "outputs": [
        {
          "output_type": "execute_result",
          "data": {
            "text/plain": [
              "(array([29.35522167,  0.14477833]), matrix([[ 0.74827139, -0.66339273],\n",
              "         [ 0.66339273,  0.74827139]]))"
            ]
          },
          "metadata": {},
          "execution_count": 100
        }
      ]
    },
    {
      "cell_type": "code",
      "source": [
        "u1=np.linalg.eig(A1)[1].T[0]#eigenvalue->29.35522167#calculamos los vectores propios u1\n",
        "u2=np.linalg.eig(A1)[1].T[1]#eigenvalue->0.1447783  #calculamos los vectores propios u2\n",
        "u1,u2#Debido a que el primer vlor propio es mayor u1 que es el primer vector...\n",
        "#propio es mucho más significativo"
      ],
      "metadata": {
        "colab": {
          "base_uri": "https://localhost:8080/"
        },
        "id": "AaES2pkrbQRq",
        "outputId": "c79be526-5532-42a4-89c4-b7643ab10032"
      },
      "execution_count": null,
      "outputs": [
        {
          "output_type": "execute_result",
          "data": {
            "text/plain": [
              "(matrix([[0.74827139, 0.66339273]]), matrix([[-0.66339273,  0.74827139]]))"
            ]
          },
          "metadata": {},
          "execution_count": 95
        }
      ]
    },
    {
      "cell_type": "code",
      "source": [
        "A[2],0.74827139+0.66339273,-0.66339273+0.7482277139\n",
        "#Seleccionamos un punto, al ser 1,1 y multiplicar por el vector propio \n",
        "#será solo la suma del vector propio."
      ],
      "metadata": {
        "colab": {
          "base_uri": "https://localhost:8080/"
        },
        "id": "9pIBCUPI4blX",
        "outputId": "e8dc5b15-1c86-4a39-aa29-ea4349dc2d3a"
      },
      "execution_count": null,
      "outputs": [
        {
          "output_type": "execute_result",
          "data": {
            "text/plain": [
              "([1, 1], 1.41166412, 0.0848349839)"
            ]
          },
          "metadata": {},
          "execution_count": 90
        }
      ]
    },
    {
      "cell_type": "code",
      "source": [
        "#Cada multiplicacion de el dato \"A[2]\" por cada vector propio nos dara un alfa diferente,\n",
        "#Cada dato puede representarse como la combinacion lineal de el alpha por la base\n",
        "#A[i]=x_i = alpha_1 U1 + alpha2_2 U2\n",
        "#A[i]=x_i ≈ alpha_1 U1 \n",
        "alpha_1=A[2]*u1.reshape(2,-1)\n",
        "alpha_2=A[2]*u2.reshape(2,-1)\n",
        "alpha_1,alpha_2"
      ],
      "metadata": {
        "colab": {
          "base_uri": "https://localhost:8080/"
        },
        "id": "KRCRZ2Uw3T0k",
        "outputId": "493bf766-e6d6-4a0b-f77f-f113a73c7705"
      },
      "execution_count": null,
      "outputs": [
        {
          "output_type": "execute_result",
          "data": {
            "text/plain": [
              "(matrix([[1.41166413]]), matrix([[0.08487866]]))"
            ]
          },
          "metadata": {},
          "execution_count": 138
        }
      ]
    },
    {
      "cell_type": "code",
      "source": [
        "#A[i]=x_i = alpha_1 U1 + alpha2_2 U2\n",
        "#A[i]=x_i ≈ alpha_1 U1 "
      ],
      "metadata": {
        "id": "n6ovmfVr39sQ"
      },
      "execution_count": null,
      "outputs": []
    },
    {
      "cell_type": "code",
      "source": [
        "#El dato exacto es representado como combinacion linel de la base por el alpha\n",
        "#si eliminamos un vector propio sera solo una aproximacion\n",
        "alpha_1*u1+alpha_2*u2"
      ],
      "metadata": {
        "colab": {
          "base_uri": "https://localhost:8080/"
        },
        "id": "4vUKU3V66c8W",
        "outputId": "a18780a5-e9da-49da-97a0-6355a5f06cbc"
      },
      "execution_count": null,
      "outputs": [
        {
          "output_type": "execute_result",
          "data": {
            "text/plain": [
              "matrix([[1., 1.]])"
            ]
          },
          "metadata": {},
          "execution_count": 98
        }
      ]
    },
    {
      "cell_type": "code",
      "source": [
        "alpha_1*u1,alpha_2*u2##u1 eigenvenctor asociado al eigenvalue->29.35522167\n",
        "                      #u2 eigenvenctor asociado al eigenvalue->0.1447783\n",
        "#El primer valor debe ser más cercano al dato \"A[2]\" al tener un valor propio más grande"
      ],
      "metadata": {
        "colab": {
          "base_uri": "https://localhost:8080/"
        },
        "id": "thzY6DTB7EC6",
        "outputId": "d2f40ff3-9214-48eb-8355-6d84c9e7e721"
      },
      "execution_count": null,
      "outputs": [
        {
          "output_type": "execute_result",
          "data": {
            "text/plain": [
              "(matrix([[1.05630789, 0.93648773]]), matrix([[-0.05630789,  0.06351227]]))"
            ]
          },
          "metadata": {},
          "execution_count": 99
        }
      ]
    },
    {
      "cell_type": "code",
      "source": [
        "plt.scatter(np.array(A)[:,0].reshape(1,-1),np.array(A)[:,1].reshape(1,-1))\n",
        "plt.axhline(0, color='black')#Pintar los ejes de color\n",
        "plt.axvline(0, color='black')\n",
        "# plt.xlim([min(-1,1), max(-1,1)])\n",
        "# plt.ylim([min(-1,1), max(-1,1)])\n",
        "plt.xlim(-1,7.5)\n",
        "plt.quiver([np.squeeze(np.array(u1))[0]], [np.squeeze(np.array(u1))[1]], angles='xy', scale_units='xy', scale=0.12)#pintar vetor propio\n",
        "plt.quiver([np.squeeze(np.array(u2))[0]], [np.squeeze(np.array(u2))[1]], angles='xy', scale_units='xy', scale=1,color='red')\n",
        "#El vector propio No 2 no tiene mucha varianza por lo que se puede eliminar"
      ],
      "metadata": {
        "colab": {
          "base_uri": "https://localhost:8080/",
          "height": 283
        },
        "id": "izSypogA78rI",
        "outputId": "7b139f7b-f1b1-4cfa-b426-664685d49a77"
      },
      "execution_count": null,
      "outputs": [
        {
          "output_type": "execute_result",
          "data": {
            "text/plain": [
              "<matplotlib.quiver.Quiver at 0x7f44a5b91b90>"
            ]
          },
          "metadata": {},
          "execution_count": 193
        },
        {
          "output_type": "display_data",
          "data": {
            "text/plain": [
              "<Figure size 432x288 with 1 Axes>"
            ],
            "image/png": "[encoded data removed]"
          },
          "metadata": {
            "needs_background": "light"
          }
        }
      ]
    },
    {
      "cell_type": "code",
      "source": [
        "A[2]*u2.reshape(2,-1)"
      ],
      "metadata": {
        "colab": {
          "base_uri": "https://localhost:8080/"
        },
        "id": "_sVO3PJCNjzC",
        "outputId": "1ab01609-76b8-4cb0-e880-7672f5173164"
      },
      "execution_count": null,
      "outputs": [
        {
          "output_type": "execute_result",
          "data": {
            "text/plain": [
              "matrix([[0.08487866]])"
            ]
          },
          "metadata": {},
          "execution_count": 188
        }
      ]
    },
    {
      "cell_type": "code",
      "source": [
        "A[2]"
      ],
      "metadata": {
        "colab": {
          "base_uri": "https://localhost:8080/"
        },
        "id": "57xbDLR9Pq24",
        "outputId": "d92245e1-691b-4cb8-b732-2b8453555173"
      },
      "execution_count": null,
      "outputs": [
        {
          "output_type": "execute_result",
          "data": {
            "text/plain": [
              "[1, 1]"
            ]
          },
          "metadata": {},
          "execution_count": 189
        }
      ]
    },
    {
      "cell_type": "code",
      "source": [
        "ev=np.linalg.eig(A1)[1]#matriz de eigenvectores\n",
        "v1=np.linalg.inv(ev).dot([1,0])\n",
        "v2=np.linalg.inv(ev).dot([0,1])\n",
        "M=np.concatenate((v1,v2))#No la usamos porq los vectores u1,u2 estan en coordenadas de x,y\n",
        "M_in=np.linalg.inv(M)\n",
        "M_in#Esta matriz sirve para ir de un punto en base B a canonica"
      ],
      "metadata": {
        "colab": {
          "base_uri": "https://localhost:8080/"
        },
        "id": "WlVi5flvdW4M",
        "outputId": "4bdc9d7a-860e-4485-d549-f1282a0eed7b"
      },
      "execution_count": null,
      "outputs": [
        {
          "output_type": "execute_result",
          "data": {
            "text/plain": [
              "matrix([[ 0.74827139,  0.66339273],\n",
              "        [-0.66339273,  0.74827139]])"
            ]
          },
          "metadata": {},
          "execution_count": 213
        }
      ]
    },
    {
      "cell_type": "code",
      "source": [
        "# alpha_1=A[2]*u1.reshape(2,-1)\n",
        "# alpha_2=A[2]*u2.reshape(2,-1)\n",
        "A[2]"
      ],
      "metadata": {
        "colab": {
          "base_uri": "https://localhost:8080/"
        },
        "id": "aqtcH9QFlyzH",
        "outputId": "174195c1-daa4-4801-d36b-51da0cffd654"
      },
      "execution_count": null,
      "outputs": [
        {
          "output_type": "execute_result",
          "data": {
            "text/plain": [
              "[1, 1]"
            ]
          },
          "metadata": {},
          "execution_count": 259
        }
      ]
    },
    {
      "cell_type": "code",
      "source": [
        "(A[2]*u2.reshape(2,-1))*u2"
      ],
      "metadata": {
        "colab": {
          "base_uri": "https://localhost:8080/"
        },
        "id": "2B2j1yZlrsYN",
        "outputId": "533f45c7-bcba-495c-d95d-607d62855b9d"
      },
      "execution_count": null,
      "outputs": [
        {
          "output_type": "execute_result",
          "data": {
            "text/plain": [
              "matrix([[-0.05630789,  0.06351227]])"
            ]
          },
          "metadata": {},
          "execution_count": 302
        }
      ]
    },
    {
      "cell_type": "code",
      "source": [
        "u1"
      ],
      "metadata": {
        "colab": {
          "base_uri": "https://localhost:8080/"
        },
        "id": "5b9pWrt_rupn",
        "outputId": "b3538368-a541-4c38-bbfe-591da405c74e"
      },
      "execution_count": null,
      "outputs": [
        {
          "output_type": "execute_result",
          "data": {
            "text/plain": [
              "matrix([[0.74827139, 0.66339273]])"
            ]
          },
          "metadata": {},
          "execution_count": 298
        }
      ]
    },
    {
      "cell_type": "code",
      "source": [
        "p11=np.array(alpha_1*u1).squeeze()#Proyeccion del punto A[2] sobre u1, con coordenadas normales\n",
        "p12=np.array(alpha_2*u2).squeeze()#Proyeccion del punto A[2] sobre u2, con coordenadas normales\n",
        "p11,p12"
      ],
      "metadata": {
        "colab": {
          "base_uri": "https://localhost:8080/"
        },
        "id": "f1QqOhogkdFK",
        "outputId": "a0c3f1c4-c85d-4e60-e581-703a934dd063"
      },
      "execution_count": null,
      "outputs": [
        {
          "output_type": "execute_result",
          "data": {
            "text/plain": [
              "(array([1.05630789, 0.93648773]), array([-0.05630789,  0.06351227]))"
            ]
          },
          "metadata": {},
          "execution_count": 270
        }
      ]
    },
    {
      "cell_type": "code",
      "source": [
        "plt.scatter(np.array(A)[:,0].reshape(1,-1),np.array(A)[:,1].reshape(1,-1))\n",
        "plt.xlim(-0.5,1.5)\n",
        "plt.ylim(-0.5,1.5)\n",
        "plt.scatter(1,1)\n",
        "plt.scatter(p11[0],p11[1],c='red',)#Proyeccion del punto A[2] sobre u1, con coordenadas normales\n",
        "plt.scatter(p12[0],p12[1],c='red',)#Proyeccion del punto A[2] sobre u2, con coordenadas normales\n",
        "plt.quiver([np.squeeze(np.array(u1))[0]], [np.squeeze(np.array(u1))[1]], angles='xy', scale_units='xy', scale=0.12)#pintar vetor propio\n",
        "plt.quiver([np.squeeze(np.array(u2))[0]], [np.squeeze(np.array(u2))[1]], angles='xy', scale_units='xy', scale=0.5,color='pink')\n",
        "#El vector propio No 2 no tiene mucha varianza por lo que se puede eliminar"
      ],
      "metadata": {
        "colab": {
          "base_uri": "https://localhost:8080/",
          "height": 287
        },
        "id": "6iYWk1fphCFn",
        "outputId": "4d654dae-c16b-4c6f-dc06-792ff1e1c6a9"
      },
      "execution_count": null,
      "outputs": [
        {
          "output_type": "execute_result",
          "data": {
            "text/plain": [
              "<matplotlib.quiver.Quiver at 0x7f44a4deae90>"
            ]
          },
          "metadata": {},
          "execution_count": 272
        },
        {
          "output_type": "display_data",
          "data": {
            "text/plain": [
              "<Figure size 432x288 with 1 Axes>"
            ],
            "image/png": "[encoded data removed]"
          },
          "metadata": {
            "needs_background": "light"
          }
        }
      ]
    },
    {
      "cell_type": "code",
      "source": [
        "len(A)"
      ],
      "metadata": {
        "colab": {
          "base_uri": "https://localhost:8080/"
        },
        "id": "mE_IBeh1nTFe",
        "outputId": "78a2c4b9-a229-4352-f755-ef83b8d4b4e0"
      },
      "execution_count": null,
      "outputs": [
        {
          "output_type": "execute_result",
          "data": {
            "text/plain": [
              "14"
            ]
          },
          "metadata": {},
          "execution_count": 276
        }
      ]
    },
    {
      "cell_type": "code",
      "source": [
        "def es():\n",
        "  #A[i]=x_i = alpha_1 U1 + alpha2_2 U2\n",
        "  #A[i]=x_i ≈ alpha_1 U1\n",
        "  plt.scatter(np.array(A)[:,0].reshape(1,-1),np.array(A)[:,1].reshape(1,-1),color='yellow',s=500)\n",
        "  for i in range(len(A)):\n",
        "    alpha_1=A[i]*u1.reshape(2,-1)\n",
        "    alpha_2=A[i]*u2.reshape(2,-1)\n",
        "    p11=np.array(alpha_1*u1).squeeze()#Proyeccion del punto A[2] sobre u1, con coordenadas normales\n",
        "    p12=np.array(alpha_2*u2).squeeze()#Proyeccion del punto A[2] sobre u2, con coordenadas normales\n",
        "    # plt.xlim(-0.5,1.5)\n",
        "    # plt.ylim(-0.5,1.5)\n",
        "    plt.scatter(p11[0],p11[1],c='green',s=200)#Proyeccion del punto A[2] sobre u1, con coordenadas normales\n",
        "    plt.scatter(p12[0],p12[1],c='red',)#Proyeccion del punto A[2] sobre u2, con coordenadas normales\n",
        "  # plt.scatter(np.array(A)[:,0].reshape(1,-1),np.array(A)[:,1].reshape(1,-1),color='yellow',s=500)\n",
        "  plt.quiver([np.squeeze(np.array(u1))[0]], [np.squeeze(np.array(u1))[1]], angles='xy', scale_units='xy', scale=0.12,color='blue')#pintar vetor propio\n",
        "  plt.quiver([np.squeeze(np.array(u2))[0]], [np.squeeze(np.array(u2))[1]], angles='xy', scale_units='xy', scale=0.5,color='pink')\n",
        "es()"
      ],
      "metadata": {
        "colab": {
          "base_uri": "https://localhost:8080/",
          "height": 264
        },
        "id": "_tI7KVwGMsxY",
        "outputId": "1462caa1-7ac1-481b-a9d0-49d98cb27ff9"
      },
      "execution_count": null,
      "outputs": [
        {
          "output_type": "display_data",
          "data": {
            "text/plain": [
              "<Figure size 432x288 with 1 Axes>"
            ],
            "image/png": "[encoded data removed]"
          },
          "metadata": {
            "needs_background": "light"
          }
        }
      ]
    },
    {
      "cell_type": "code",
      "source": [
        "np.linalg.eig(A1)[1]*np.linalg.eig(A1)[1].T#Matriz identidad"
      ],
      "metadata": {
        "colab": {
          "base_uri": "https://localhost:8080/"
        },
        "id": "aeFtpu9OFI6s",
        "outputId": "f098a6be-0dab-4681-f491-a7676b22e836"
      },
      "execution_count": null,
      "outputs": [
        {
          "output_type": "execute_result",
          "data": {
            "text/plain": [
              "matrix([[ 1.00000000e+00, -1.20987025e-17],\n",
              "        [-1.20987025e-17,  1.00000000e+00]])"
            ]
          },
          "metadata": {},
          "execution_count": 153
        }
      ]
    },
    {
      "cell_type": "code",
      "source": [
        "np.linalg.eig(A1)[1].T*np.linalg.eig(A1)[1]#Matriz identidad"
      ],
      "metadata": {
        "colab": {
          "base_uri": "https://localhost:8080/"
        },
        "id": "41Kj3H9bFT6b",
        "outputId": "2d05b4a2-be00-4414-c357-6937b16f250f"
      },
      "execution_count": null,
      "outputs": [
        {
          "output_type": "execute_result",
          "data": {
            "text/plain": [
              "matrix([[1.00000000e+00, 1.20987025e-17],\n",
              "        [1.20987025e-17, 1.00000000e+00]])"
            ]
          },
          "metadata": {},
          "execution_count": 155
        }
      ]
    },
    {
      "cell_type": "code",
      "source": [
        "np.linalg.eig(A1)[1]"
      ],
      "metadata": {
        "colab": {
          "base_uri": "https://localhost:8080/"
        },
        "id": "rRdckI59FnQe",
        "outputId": "1c23937e-b4c7-42f4-f487-b494a59151e7"
      },
      "execution_count": null,
      "outputs": [
        {
          "output_type": "execute_result",
          "data": {
            "text/plain": [
              "matrix([[ 0.74827139, -0.66339273],\n",
              "        [ 0.66339273,  0.74827139]])"
            ]
          },
          "metadata": {},
          "execution_count": 156
        }
      ]
    },
    {
      "cell_type": "code",
      "source": [
        "MVP=np.linalg.eig(A1)[0]*np.identity(2)#Matriz de valores propios\n",
        "#np.linalg.eig(A1)[0]->valores propios [a,b]*I_2x2 \n",
        "MVP#Matriz de valores propios"
      ],
      "metadata": {
        "colab": {
          "base_uri": "https://localhost:8080/"
        },
        "id": "duLZjlXNFsXn",
        "outputId": "52b41b27-939d-480e-e979-b3932c518e21"
      },
      "execution_count": null,
      "outputs": [
        {
          "output_type": "execute_result",
          "data": {
            "text/plain": [
              "array([[29.35522167,  0.        ],\n",
              "       [ 0.        ,  0.14477833]])"
            ]
          },
          "metadata": {},
          "execution_count": 161
        }
      ]
    },
    {
      "cell_type": "code",
      "source": [
        "V=np.linalg.eig(A1)[1]#Matriz de vectoresespropios\n",
        "L=MVP**(1/2)#Matriz de valores propios con raiz\n",
        "L#Matiz Diagonal->ya es L^(1/2) Lo agregamos arriba\n",
        "#Entonces obtén S, la estructura factorial, usando S =V L^(1/2)\n",
        "#V es la matiz de valores propios  np.linalg.eig(A1)[1]"
      ],
      "metadata": {
        "colab": {
          "base_uri": "https://localhost:8080/"
        },
        "id": "x4WbMwwgGa7P",
        "outputId": "ee8c21df-7787-4839-846f-a8f32c5b52d7"
      },
      "execution_count": null,
      "outputs": [
        {
          "output_type": "execute_result",
          "data": {
            "text/plain": [
              "array([[5.41804593, 0.        ],\n",
              "       [0.        , 0.38049748]])"
            ]
          },
          "metadata": {},
          "execution_count": 168
        }
      ]
    },
    {
      "cell_type": "code",
      "source": [
        "np.linalg.eig(A1)[0]"
      ],
      "metadata": {
        "colab": {
          "base_uri": "https://localhost:8080/"
        },
        "id": "gS5mEY0cI7O8",
        "outputId": "22c046d1-438f-4759-a0d8-ce18fa6ece6e"
      },
      "execution_count": null,
      "outputs": [
        {
          "output_type": "execute_result",
          "data": {
            "text/plain": [
              "array([29.35522167,  0.14477833])"
            ]
          },
          "metadata": {},
          "execution_count": 179
        }
      ]
    },
    {
      "cell_type": "code",
      "source": [
        "V*L#Entonces, por ejemplo, 3.59 es la correlación entre la segunda variable y el primer componente principal."
      ],
      "metadata": {
        "colab": {
          "base_uri": "https://localhost:8080/"
        },
        "id": "eIj0UQTOHU5P",
        "outputId": "62e9d09f-900e-49ad-d7fa-4ee8f9bca7cf"
      },
      "execution_count": null,
      "outputs": [
        {
          "output_type": "execute_result",
          "data": {
            "text/plain": [
              "matrix([[ 4.05416878, -0.25241926],\n",
              "        [ 3.5942923 ,  0.28471538]])"
            ]
          },
          "metadata": {},
          "execution_count": 177
        }
      ]
    },
    {
      "cell_type": "code",
      "source": [
        "#Si tuvieras matris de 3x3 ->Tendrias 3 vectores propios\n",
        "#prodrias tomar solo 2 vectores propios, multiplicar la matriz 3x2 que producen por\n",
        "#Su transpuesta 2x3 dandote una matriz 3x3, la diagonal es la importante ya que dice lo siguiente\n",
        "#Para el primer valor de la diagonal esta entre 0<=1 el primer valor de la diag dice cuanto porcentaje explican los 2\n",
        "#Vectores propios que tomaste de la primer variable \"CAracteristica\"\n",
        "#El segundo valor de la diagonal te dice el porcentaje que explican los vectores propios con respecto\n",
        "#A la segunda variable \"caracteristica-> Feture\"\n",
        "#El Tercer valor de la diagonal te dice el procentaje que explican los 2 vectores propios que tomaste\n",
        "#con respecto a la tercer variable \"caracteristica-> Feature\""
      ],
      "metadata": {
        "colab": {
          "base_uri": "https://localhost:8080/"
        },
        "id": "-4CRk3PiJxCs",
        "outputId": "b4d1f6ee-4a7e-4c85-afe0-b17acf756422"
      },
      "execution_count": null,
      "outputs": [
        {
          "output_type": "execute_result",
          "data": {
            "text/plain": [
              "matrix([[1.]])"
            ]
          },
          "metadata": {},
          "execution_count": 184
        }
      ]
    }
  ]
}