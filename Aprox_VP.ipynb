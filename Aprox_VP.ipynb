{
  "nbformat": 4,
  "nbformat_minor": 0,
  "metadata": {
    "colab": {
      "name": "Aprox_VP.ipynb",
      "provenance": [],
      "authorship_tag": "ABX9TyPXeeppgj8WGVyKlt8ZtOGa",
      "include_colab_link": true
    },
    "kernelspec": {
      "name": "python3",
      "display_name": "Python 3"
    }
  },
  "cells": [
    {
      "cell_type": "markdown",
      "metadata": {
        "id": "view-in-github",
        "colab_type": "text"
      },
      "source": [
        "<a href=\"https://colab.research.google.com/github/CharlyPierce/AlgebraLineal/blob/main/Aprox_VP.ipynb\" target=\"_parent\"><img src=\"https://colab.research.google.com/assets/colab-badge.svg\" alt=\"Open In Colab\"/></a>"
      ]
    },
    {
      "cell_type": "code",
      "metadata": {
        "id": "XT3cEoP_EqBU"
      },
      "source": [
        "import pandas as pd\n",
        "import numpy as np\n",
        "from scipy import linalg"
      ],
      "execution_count": null,
      "outputs": []
    },
    {
      "cell_type": "code",
      "metadata": {
        "id": "1r9RBNR4X7Qu",
        "colab": {
          "base_uri": "https://localhost:8080/",
          "height": 34
        },
        "outputId": "657bee54-5546-4e81-f860-cc5bcc1b9284"
      },
      "source": [
        "H,Q=linalg.hessenberg(A)\n",
        "H,Q"
      ],
      "execution_count": null,
      "outputs": [
        {
          "output_type": "execute_result",
          "data": {
            "text/plain": [
              "(array([25,  7]), array([ 7, 25]))"
            ]
          },
          "metadata": {
            "tags": []
          },
          "execution_count": 76
        }
      ]
    },
    {
      "cell_type": "markdown",
      "metadata": {
        "id": "tyyCNWwiTZLC"
      },
      "source": [
        "#Aproximacion de valores propios por la forma\n",
        "##A=QR->RQ=A1=QR->RQ=A2=QR->RQ=A3=QR..."
      ]
    },
    {
      "cell_type": "code",
      "metadata": {
        "id": "hXFEuQQEEzZ5",
        "colab": {
          "base_uri": "https://localhost:8080/",
          "height": 381
        },
        "outputId": "64b2991b-9352-40fc-b011-45433aabcf57"
      },
      "source": [
        "r=6\n",
        "A=np.array([[25,7],[7,25]])\n",
        "a=[]\n",
        "a.append(A)\n",
        "\n",
        "for i in range(r):\n",
        "  A1=np.linalg.qr(a[i])\n",
        "  A2=np.dot(A1[1],A1[0])\n",
        "  a.append(A2)\n",
        "for i in range(r+1):\n",
        "  if(i%3==0):\n",
        "    print(i)\n",
        "    print('\\n')\n",
        "    print(a[i])\n",
        "    print('\\n')"
      ],
      "execution_count": null,
      "outputs": [
        {
          "output_type": "stream",
          "text": [
            "0\n",
            "\n",
            "\n",
            "[[25  7]\n",
            " [ 7 25]]\n",
            "\n",
            "\n",
            "3\n",
            "\n",
            "\n",
            "[[31.57014724 -2.41519466]\n",
            " [-2.41519466 18.42985276]]\n",
            "\n",
            "\n",
            "6\n",
            "\n",
            "\n",
            "[[31.9859666  0.4430244]\n",
            " [ 0.4430244 18.0140334]]\n",
            "\n",
            "\n"
          ],
          "name": "stdout"
        }
      ]
    },
    {
      "cell_type": "markdown",
      "metadata": {
        "id": "zTnw9NWkT8F-"
      },
      "source": [
        "#Aproximacion de valores propios por la forma \n",
        "##A-SI=QR->RQ+SI=A1->A1-SI=QR->RQ+SI=A2->A2-SI=QR->RQ+si=A3->A3-SI=QR..."
      ]
    },
    {
      "cell_type": "code",
      "metadata": {
        "id": "IcMT7Iz1G94M",
        "colab": {
          "base_uri": "https://localhost:8080/",
          "height": 381
        },
        "outputId": "cc3d213a-a548-4b29-c60c-30ace058c9e1"
      },
      "source": [
        "r=6\n",
        "asi=[]\n",
        "a=[]\n",
        "\n",
        "A=np.array([[25,7],[7,25]])\n",
        "a.append(A)\n",
        "\n",
        "\n",
        "for i in range(r):\n",
        "  s=np.random.randint(10)\n",
        "  SI=(s*I)*-1\n",
        "  asi.append(np.add(a[i],SI))\n",
        "  A1=np.linalg.qr(asi[i])\n",
        "  A2=np.add(np.dot(A1[1],A1[0]),-SI)\n",
        "  a.append(A2)\n",
        "for i in range(r+1):\n",
        "  if(i%3==0):\n",
        "    print(i)\n",
        "    print('\\n')\n",
        "    print(a[i])\n",
        "    print('\\n')\n"
      ],
      "execution_count": null,
      "outputs": [
        {
          "output_type": "stream",
          "text": [
            "0\n",
            "\n",
            "\n",
            "[[25  7]\n",
            " [ 7 25]]\n",
            "\n",
            "\n",
            "3\n",
            "\n",
            "\n",
            "[[31.72851329 -1.93057218]\n",
            " [-1.93057218 18.27148671]]\n",
            "\n",
            "\n",
            "6\n",
            "\n",
            "\n",
            "[[31.99208226  0.33284487]\n",
            " [ 0.33284487 18.00791774]]\n",
            "\n",
            "\n"
          ],
          "name": "stdout"
        }
      ]
    }
  ]
}